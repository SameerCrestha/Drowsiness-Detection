{
 "cells": [
  {
   "cell_type": "code",
   "execution_count": 5,
   "id": "6f47afcb",
   "metadata": {},
   "outputs": [],
   "source": [
    "import dlib"
   ]
  },
  {
   "cell_type": "code",
   "execution_count": 6,
   "id": "32ee8144",
   "metadata": {},
   "outputs": [],
   "source": [
    "predictor_path=\"predictor.dat\"\n",
    "trainxml_path=\"ibug_300W_large_face_landmark_dataset/labels_ibug_300W_train_modified.xml\"\n",
    "testxml_path=\"ibug_300W_large_face_landmark_dataset/labels_ibug_300W_test_modified.xml\""
   ]
  },
  {
   "cell_type": "code",
   "execution_count": 7,
   "id": "a6bbe14f",
   "metadata": {},
   "outputs": [
    {
     "name": "stdout",
     "output_type": "stream",
     "text": [
      "Status: Evaluating shape predictor...\n"
     ]
    }
   ],
   "source": [
    "print(\"Status: Evaluating shape predictor...\")"
   ]
  },
  {
   "cell_type": "code",
   "execution_count": 8,
   "id": "407bfd6b",
   "metadata": {},
   "outputs": [
    {
     "name": "stdout",
     "output_type": "stream",
     "text": [
      "Info: Error=5.995634891830534\n"
     ]
    }
   ],
   "source": [
    "error=dlib.test_shape_predictor(trainxml_path,predictor_path)\n",
    "print(\"Info: Error={}\".format(error))"
   ]
  }
 ],
 "metadata": {
  "kernelspec": {
   "display_name": "Python 3 (ipykernel)",
   "language": "python",
   "name": "python3"
  },
  "language_info": {
   "codemirror_mode": {
    "name": "ipython",
    "version": 3
   },
   "file_extension": ".py",
   "mimetype": "text/x-python",
   "name": "python",
   "nbconvert_exporter": "python",
   "pygments_lexer": "ipython3",
   "version": "3.9.15"
  }
 },
 "nbformat": 4,
 "nbformat_minor": 5
}
