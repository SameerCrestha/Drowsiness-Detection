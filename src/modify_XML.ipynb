{
 "cells": [
  {
   "cell_type": "code",
   "execution_count": 38,
   "id": "f5317331",
   "metadata": {
    "scrolled": true
   },
   "outputs": [],
   "source": [
    "import argparse\n",
    "import re\n",
    "import time"
   ]
  },
  {
   "cell_type": "code",
   "execution_count": null,
   "id": "9c67bd27",
   "metadata": {},
   "outputs": [],
   "source": [
    "def getTimeStamp():\n",
    "    return time.ctime(time.time())"
   ]
  },
  {
   "cell_type": "code",
   "execution_count": 39,
   "id": "3b8fd9ae",
   "metadata": {},
   "outputs": [],
   "source": [
    "#inputFile=open(\"ibug_300W_large_face_landmark_dataset/labels_ibug_300W_train.xml\",\"r\")\n",
    "#outputFile=open(\"ibug_300W_large_face_landmark_dataset/labels_ibug_300W_train_modified.xml\",\"w+\")\n",
    "\n",
    "inputFile=open(\"ibug_300W_large_face_landmark_dataset/labels_ibug_300W_test.xml\",\"r\")\n",
    "outputFile=open(\"ibug_300W_large_face_landmark_dataset/labels_ibug_300W_test_modified.xml\",\"w+\")"
   ]
  },
  {
   "cell_type": "code",
   "execution_count": 40,
   "id": "1a3487bd",
   "metadata": {
    "scrolled": true
   },
   "outputs": [
    {
     "name": "stdout",
     "output_type": "stream",
     "text": [
      "[INFO] parsing data split XML file...\n"
     ]
    }
   ],
   "source": [
    "LANDMARKS = set(list(range(36, 68)))\n",
    "PART = re.compile(\"part name='[0-9]+'\")\n",
    "print(\"[{}]Status: Parsing original XML file...\".format(getTimeStamp()))\n",
    "rows = inputFile.read().strip().split(\"\\n\")"
   ]
  },
  {
   "cell_type": "code",
   "execution_count": 41,
   "id": "6ac39cde",
   "metadata": {},
   "outputs": [
    {
     "name": "stdout",
     "output_type": "stream",
     "text": [
      "[INFO] Action Finished\n"
     ]
    }
   ],
   "source": [
    "print(\"[{}]Status: Starting modification of XML file\".format(getTimeStamp()))\n",
    "for row in rows:\n",
    "    parts=re.findall(PART,row)\n",
    "    if len(parts)==0:\n",
    "        outputFile.write(\"{}\\n\".format(row))\n",
    "    else:\n",
    "        attr=\"name='\"\n",
    "        i=row.find(attr)\n",
    "        j=row.find(\"'\",i+len(attr)+1)\n",
    "        name=int(row[i+len(attr):j])\n",
    "        if name in LANDMARKS:\n",
    "            outputFile.write(\"{}\\n\".format(row))\n",
    "outputFile.close()\n",
    "print(\"[{}]Status: Modification Completed\".format(getTimeStamp()))"
   ]
  }
 ],
 "metadata": {
  "kernelspec": {
   "display_name": "Python 3 (ipykernel)",
   "language": "python",
   "name": "python3"
  },
  "language_info": {
   "codemirror_mode": {
    "name": "ipython",
    "version": 3
   },
   "file_extension": ".py",
   "mimetype": "text/x-python",
   "name": "python",
   "nbconvert_exporter": "python",
   "pygments_lexer": "ipython3",
   "version": "3.9.15"
  }
 },
 "nbformat": 4,
 "nbformat_minor": 5
}
