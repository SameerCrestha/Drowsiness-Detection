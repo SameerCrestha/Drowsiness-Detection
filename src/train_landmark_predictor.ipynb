{
 "cells": [
  {
   "cell_type": "code",
   "execution_count": null,
   "id": "a359dad1",
   "metadata": {},
   "outputs": [],
   "source": [
    "import dlib\n",
    "import time\n",
    "import multiprocessing"
   ]
  },
  {
   "cell_type": "code",
   "execution_count": null,
   "id": "5c2a51d3",
   "metadata": {},
   "outputs": [],
   "source": [
    "def getTimeStamp():\n",
    "    return time.ctime(time.time())"
   ]
  },
  {
   "cell_type": "code",
   "execution_count": null,
   "id": "ed39b029",
   "metadata": {},
   "outputs": [],
   "source": [
    "inputFilePath=\"ibug_300W_large_face_landmark_dataset/labels_ibug_300W_train_modified.xml\"\n",
    "outputFilePath=\"predictor.dat\""
   ]
  },
  {
   "cell_type": "code",
   "execution_count": null,
   "id": "dddf08b2",
   "metadata": {},
   "outputs": [],
   "source": [
    "options=dlib.shape_predictor_training_options()\n",
    "options.num_threads = multiprocessing.cpu_count()\n",
    "options.be_verbose = True\n",
    "start=time.time()\n",
    "print(\"[{}]Status: Training in progress...\".format(getTimeStamp()))"
   ]
  },
  {
   "cell_type": "code",
   "execution_count": null,
   "id": "d264375c",
   "metadata": {
    "scrolled": true
   },
   "outputs": [],
   "source": [
    "dlib.train_shape_predictor(inputFilePath,outputFilePath,options)\n",
    "end=time.time()\n",
    "print(\"[{}]Status: Training completed.\".format(getTimeStamp()))\n",
    "print(\"Info:Training time:{} sec\".format(end-start))"
   ]
  }
 ],
 "metadata": {
  "kernelspec": {
   "display_name": "Python 3 (ipykernel)",
   "language": "python",
   "name": "python3"
  },
  "language_info": {
   "codemirror_mode": {
    "name": "ipython",
    "version": 3
   },
   "file_extension": ".py",
   "mimetype": "text/x-python",
   "name": "python",
   "nbconvert_exporter": "python",
   "pygments_lexer": "ipython3",
   "version": "3.9.15"
  }
 },
 "nbformat": 4,
 "nbformat_minor": 5
}
